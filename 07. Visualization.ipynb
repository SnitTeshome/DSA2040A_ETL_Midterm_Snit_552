{
 "cells": [
  {
   "cell_type": "markdown",
   "id": "bdfd5ded",
   "metadata": {},
   "source": [
    "# *Visualization*"
   ]
  },
  {
   "cell_type": "code",
   "execution_count": 6,
   "id": "3dcc6a3c",
   "metadata": {},
   "outputs": [],
   "source": [
    "import pandas as pd\n",
    "import numpy as np\n",
    "import matplotlib.pyplot as plt"
   ]
  },
  {
   "cell_type": "markdown",
   "id": "75f0a7c2",
   "metadata": {},
   "source": [
    " # *Transform_full*"
   ]
  },
  {
   "cell_type": "markdown",
   "id": "16a58dc5",
   "metadata": {},
   "source": [
    " ### *Prepare Data and  Grouped by Month and product for total revenue*"
   ]
  },
  {
   "cell_type": "code",
   "execution_count": 7,
   "id": "0fc94dce",
   "metadata": {},
   "outputs": [
    {
     "data": {
      "text/html": [
       "<div>\n",
       "<style scoped>\n",
       "    .dataframe tbody tr th:only-of-type {\n",
       "        vertical-align: middle;\n",
       "    }\n",
       "\n",
       "    .dataframe tbody tr th {\n",
       "        vertical-align: top;\n",
       "    }\n",
       "\n",
       "    .dataframe thead th {\n",
       "        text-align: right;\n",
       "    }\n",
       "</style>\n",
       "<table border=\"1\" class=\"dataframe\">\n",
       "  <thead>\n",
       "    <tr style=\"text-align: right;\">\n",
       "      <th></th>\n",
       "      <th>order_id</th>\n",
       "      <th>customer_name</th>\n",
       "      <th>product</th>\n",
       "      <th>quantity</th>\n",
       "      <th>unit_price</th>\n",
       "      <th>order_date</th>\n",
       "      <th>region</th>\n",
       "      <th>month</th>\n",
       "      <th>total_price</th>\n",
       "      <th>revenue_category</th>\n",
       "    </tr>\n",
       "  </thead>\n",
       "  <tbody>\n",
       "    <tr>\n",
       "      <th>0</th>\n",
       "      <td>1</td>\n",
       "      <td>Diana</td>\n",
       "      <td>Tablet</td>\n",
       "      <td>2</td>\n",
       "      <td>500.0</td>\n",
       "      <td>2024-01-20</td>\n",
       "      <td>South</td>\n",
       "      <td>1</td>\n",
       "      <td>1000.0</td>\n",
       "      <td>High</td>\n",
       "    </tr>\n",
       "    <tr>\n",
       "      <th>1</th>\n",
       "      <td>3</td>\n",
       "      <td>Charlie</td>\n",
       "      <td>Laptop</td>\n",
       "      <td>2</td>\n",
       "      <td>250.0</td>\n",
       "      <td>2024-01-08</td>\n",
       "      <td>Not Specified</td>\n",
       "      <td>1</td>\n",
       "      <td>500.0</td>\n",
       "      <td>Medium</td>\n",
       "    </tr>\n",
       "    <tr>\n",
       "      <th>2</th>\n",
       "      <td>4</td>\n",
       "      <td>Eve</td>\n",
       "      <td>Laptop</td>\n",
       "      <td>2</td>\n",
       "      <td>750.0</td>\n",
       "      <td>2024-01-07</td>\n",
       "      <td>West</td>\n",
       "      <td>1</td>\n",
       "      <td>1500.0</td>\n",
       "      <td>Very High</td>\n",
       "    </tr>\n",
       "    <tr>\n",
       "      <th>3</th>\n",
       "      <td>5</td>\n",
       "      <td>Eve</td>\n",
       "      <td>Tablet</td>\n",
       "      <td>3</td>\n",
       "      <td>625.0</td>\n",
       "      <td>2024-03-07</td>\n",
       "      <td>South</td>\n",
       "      <td>3</td>\n",
       "      <td>1875.0</td>\n",
       "      <td>Very High</td>\n",
       "    </tr>\n",
       "    <tr>\n",
       "      <th>4</th>\n",
       "      <td>7</td>\n",
       "      <td>Charlie</td>\n",
       "      <td>Monitor</td>\n",
       "      <td>2</td>\n",
       "      <td>750.0</td>\n",
       "      <td>2024-02-02</td>\n",
       "      <td>West</td>\n",
       "      <td>2</td>\n",
       "      <td>1500.0</td>\n",
       "      <td>Very High</td>\n",
       "    </tr>\n",
       "  </tbody>\n",
       "</table>\n",
       "</div>"
      ],
      "text/plain": [
       "   order_id customer_name  product  quantity  unit_price  order_date  \\\n",
       "0         1         Diana   Tablet         2       500.0  2024-01-20   \n",
       "1         3       Charlie   Laptop         2       250.0  2024-01-08   \n",
       "2         4           Eve   Laptop         2       750.0  2024-01-07   \n",
       "3         5           Eve   Tablet         3       625.0  2024-03-07   \n",
       "4         7       Charlie  Monitor         2       750.0  2024-02-02   \n",
       "\n",
       "          region  month  total_price revenue_category  \n",
       "0          South      1       1000.0             High  \n",
       "1  Not Specified      1        500.0           Medium  \n",
       "2           West      1       1500.0        Very High  \n",
       "3          South      3       1875.0        Very High  \n",
       "4           West      2       1500.0        Very High  "
      ]
     },
     "execution_count": 7,
     "metadata": {},
     "output_type": "execute_result"
    }
   ],
   "source": [
    "\n",
    "# Load the transformed file\n",
    "transformed_full = pd.read_csv('transformed/transformed_full.csv')\n",
    "transformed_full.head()"
   ]
  },
  {
   "cell_type": "code",
   "execution_count": 8,
   "id": "2a734481",
   "metadata": {},
   "outputs": [
    {
     "data": {
      "image/png": "[encoded data removed]",
      "text/plain": [
       "<Figure size 1000x400 with 1 Axes>"
      ]
     },
     "metadata": {},
     "output_type": "display_data"
    }
   ],
   "source": [
    "# Group by month and product to calculate total revenue\n",
    "monthly_revenue = transformed_full.groupby(['month', 'product'])['total_price'].sum().unstack(fill_value=0)\n",
    "monthly_revenue.plot(kind='bar', figsize=(10, 4))\n",
    "plt.title('Monthly Revenue by Product')\n",
    "plt.xlabel('Month')\n",
    "plt.ylabel('Total Revenue')\n",
    "plt.xticks(rotation=0)\n",
    "plt.legend(title='Product')\n",
    "plt.tight_layout()\n",
    "plt.show()"
   ]
  },
  {
   "cell_type": "markdown",
   "id": "b3805495",
   "metadata": {},
   "source": [
    "#### *Visualization: Monthly Revenue by Product*\n",
    "*This bar chart illustrates the total revenue generated by each product for every month, based on the `total_price` column.*\n",
    "*Using a grouped bar chart allows for easy comparison across products and months, helping identify patterns such as best-selling months or product performance trends.* \n"
   ]
  },
  {
   "cell_type": "markdown",
   "id": "01067348",
   "metadata": {},
   "source": [
    " # *Transform_Incremental*"
   ]
  },
  {
   "cell_type": "code",
   "execution_count": 9,
   "id": "a8649ee6",
   "metadata": {},
   "outputs": [
    {
     "data": {
      "text/html": [
       "<div>\n",
       "<style scoped>\n",
       "    .dataframe tbody tr th:only-of-type {\n",
       "        vertical-align: middle;\n",
       "    }\n",
       "\n",
       "    .dataframe tbody tr th {\n",
       "        vertical-align: top;\n",
       "    }\n",
       "\n",
       "    .dataframe thead th {\n",
       "        text-align: right;\n",
       "    }\n",
       "</style>\n",
       "<table border=\"1\" class=\"dataframe\">\n",
       "  <thead>\n",
       "    <tr style=\"text-align: right;\">\n",
       "      <th></th>\n",
       "      <th>order_id</th>\n",
       "      <th>customer_name</th>\n",
       "      <th>product</th>\n",
       "      <th>quantity</th>\n",
       "      <th>unit_price</th>\n",
       "      <th>order_date</th>\n",
       "      <th>region</th>\n",
       "      <th>month</th>\n",
       "      <th>total_price</th>\n",
       "      <th>revenue_category</th>\n",
       "    </tr>\n",
       "  </thead>\n",
       "  <tbody>\n",
       "    <tr>\n",
       "      <th>0</th>\n",
       "      <td>101</td>\n",
       "      <td>Alice</td>\n",
       "      <td>Laptop</td>\n",
       "      <td>1</td>\n",
       "      <td>900.0</td>\n",
       "      <td>2024-05-09</td>\n",
       "      <td>Central</td>\n",
       "      <td>5</td>\n",
       "      <td>900.0</td>\n",
       "      <td>High</td>\n",
       "    </tr>\n",
       "    <tr>\n",
       "      <th>1</th>\n",
       "      <td>102</td>\n",
       "      <td>Unknown</td>\n",
       "      <td>Laptop</td>\n",
       "      <td>1</td>\n",
       "      <td>300.0</td>\n",
       "      <td>2024-05-07</td>\n",
       "      <td>Central</td>\n",
       "      <td>5</td>\n",
       "      <td>300.0</td>\n",
       "      <td>Medium</td>\n",
       "    </tr>\n",
       "    <tr>\n",
       "      <th>2</th>\n",
       "      <td>103</td>\n",
       "      <td>Unknown</td>\n",
       "      <td>Laptop</td>\n",
       "      <td>1</td>\n",
       "      <td>600.0</td>\n",
       "      <td>2024-05-04</td>\n",
       "      <td>Central</td>\n",
       "      <td>5</td>\n",
       "      <td>600.0</td>\n",
       "      <td>High</td>\n",
       "    </tr>\n",
       "    <tr>\n",
       "      <th>3</th>\n",
       "      <td>104</td>\n",
       "      <td>Unknown</td>\n",
       "      <td>Tablet</td>\n",
       "      <td>1</td>\n",
       "      <td>300.0</td>\n",
       "      <td>2024-05-26</td>\n",
       "      <td>Central</td>\n",
       "      <td>5</td>\n",
       "      <td>300.0</td>\n",
       "      <td>Medium</td>\n",
       "    </tr>\n",
       "    <tr>\n",
       "      <th>4</th>\n",
       "      <td>105</td>\n",
       "      <td>Heidi</td>\n",
       "      <td>Tablet</td>\n",
       "      <td>2</td>\n",
       "      <td>600.0</td>\n",
       "      <td>2024-05-21</td>\n",
       "      <td>North</td>\n",
       "      <td>5</td>\n",
       "      <td>1200.0</td>\n",
       "      <td>Very High</td>\n",
       "    </tr>\n",
       "  </tbody>\n",
       "</table>\n",
       "</div>"
      ],
      "text/plain": [
       "   order_id customer_name product  quantity  unit_price  order_date   region  \\\n",
       "0       101         Alice  Laptop         1       900.0  2024-05-09  Central   \n",
       "1       102       Unknown  Laptop         1       300.0  2024-05-07  Central   \n",
       "2       103       Unknown  Laptop         1       600.0  2024-05-04  Central   \n",
       "3       104       Unknown  Tablet         1       300.0  2024-05-26  Central   \n",
       "4       105         Heidi  Tablet         2       600.0  2024-05-21    North   \n",
       "\n",
       "   month  total_price revenue_category  \n",
       "0      5        900.0             High  \n",
       "1      5        300.0           Medium  \n",
       "2      5        600.0             High  \n",
       "3      5        300.0           Medium  \n",
       "4      5       1200.0        Very High  "
      ]
     },
     "execution_count": 9,
     "metadata": {},
     "output_type": "execute_result"
    }
   ],
   "source": [
    "# Load the transformed file\n",
    "transformed_incermental = pd.read_csv('transformed/transformed_incremental.csv')\n",
    "transformed_incermental.head()"
   ]
  },
  {
   "cell_type": "code",
   "execution_count": 10,
   "id": "f6beded9",
   "metadata": {},
   "outputs": [
    {
     "data": {
      "image/png": "[encoded data removed]",
      "text/plain": [
       "<Figure size 1000x400 with 1 Axes>"
      ]
     },
     "metadata": {},
     "output_type": "display_data"
    }
   ],
   "source": [
    "# Group by month and product to calculate total revenue\n",
    "monthly_revenue = transformed_incermental.groupby(['month', 'product'])['total_price'].sum().unstack(fill_value=0)\n",
    "monthly_revenue.plot(kind='bar', figsize=(10, 4))\n",
    "plt.title('Monthly Revenue by Product')\n",
    "plt.xlabel('Month')\n",
    "plt.ylabel('Total Revenue')\n",
    "plt.xticks(rotation=0)\n",
    "plt.legend(title='Product')\n",
    "plt.tight_layout()\n",
    "plt.show()"
   ]
  }
 ],
 "metadata": {
  "kernelspec": {
   "display_name": "base",
   "language": "python",
   "name": "python3"
  },
  "language_info": {
   "codemirror_mode": {
    "name": "ipython",
    "version": 3
   },
   "file_extension": ".py",
   "mimetype": "text/x-python",
   "name": "python",
   "nbconvert_exporter": "python",
   "pygments_lexer": "ipython3",
   "version": "3.12.7"
  }
 },
 "nbformat": 4,
 "nbformat_minor": 5
}
