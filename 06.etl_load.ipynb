{
 "cells": [
  {
   "cell_type": "markdown",
   "id": "debcbc34",
   "metadata": {},
   "source": [
    "## *Load both transformed files into:Parquet*"
   ]
  },
  {
   "cell_type": "markdown",
   "id": "99d15fb1",
   "metadata": {},
   "source": [
    "# 1.*transformed_Full files*"
   ]
  },
  {
   "cell_type": "code",
   "execution_count": 6,
   "id": "7f2e28ea",
   "metadata": {},
   "outputs": [],
   "source": [
    "import pandas as pd"
   ]
  },
  {
   "cell_type": "markdown",
   "id": "81474d14",
   "metadata": {},
   "source": [
    "### *Step 1: Read the Full Transformed Dataset*\n"
   ]
  },
  {
   "cell_type": "code",
   "execution_count": null,
   "id": "7933e923",
   "metadata": {},
   "outputs": [
    {
     "data": {
      "text/html": [
       "<div>\n",
       "<style scoped>\n",
       "    .dataframe tbody tr th:only-of-type {\n",
       "        vertical-align: middle;\n",
       "    }\n",
       "\n",
       "    .dataframe tbody tr th {\n",
       "        vertical-align: top;\n",
       "    }\n",
       "\n",
       "    .dataframe thead th {\n",
       "        text-align: right;\n",
       "    }\n",
       "</style>\n",
       "<table border=\"1\" class=\"dataframe\">\n",
       "  <thead>\n",
       "    <tr style=\"text-align: right;\">\n",
       "      <th></th>\n",
       "      <th>order_id</th>\n",
       "      <th>customer_name</th>\n",
       "      <th>product</th>\n",
       "      <th>quantity</th>\n",
       "      <th>unit_price</th>\n",
       "      <th>order_date</th>\n",
       "      <th>region</th>\n",
       "      <th>month</th>\n",
       "      <th>total_price</th>\n",
       "      <th>revenue_category</th>\n",
       "    </tr>\n",
       "  </thead>\n",
       "  <tbody>\n",
       "    <tr>\n",
       "      <th>0</th>\n",
       "      <td>1</td>\n",
       "      <td>Diana</td>\n",
       "      <td>Tablet</td>\n",
       "      <td>2</td>\n",
       "      <td>500.0</td>\n",
       "      <td>2024-01-20</td>\n",
       "      <td>South</td>\n",
       "      <td>1</td>\n",
       "      <td>1000.0</td>\n",
       "      <td>High</td>\n",
       "    </tr>\n",
       "    <tr>\n",
       "      <th>1</th>\n",
       "      <td>3</td>\n",
       "      <td>Charlie</td>\n",
       "      <td>Laptop</td>\n",
       "      <td>2</td>\n",
       "      <td>250.0</td>\n",
       "      <td>2024-01-08</td>\n",
       "      <td>Not Specified</td>\n",
       "      <td>1</td>\n",
       "      <td>500.0</td>\n",
       "      <td>Medium</td>\n",
       "    </tr>\n",
       "    <tr>\n",
       "      <th>2</th>\n",
       "      <td>4</td>\n",
       "      <td>Eve</td>\n",
       "      <td>Laptop</td>\n",
       "      <td>2</td>\n",
       "      <td>750.0</td>\n",
       "      <td>2024-01-07</td>\n",
       "      <td>West</td>\n",
       "      <td>1</td>\n",
       "      <td>1500.0</td>\n",
       "      <td>Very High</td>\n",
       "    </tr>\n",
       "    <tr>\n",
       "      <th>3</th>\n",
       "      <td>5</td>\n",
       "      <td>Eve</td>\n",
       "      <td>Tablet</td>\n",
       "      <td>3</td>\n",
       "      <td>625.0</td>\n",
       "      <td>2024-03-07</td>\n",
       "      <td>South</td>\n",
       "      <td>3</td>\n",
       "      <td>1875.0</td>\n",
       "      <td>Very High</td>\n",
       "    </tr>\n",
       "    <tr>\n",
       "      <th>4</th>\n",
       "      <td>7</td>\n",
       "      <td>Charlie</td>\n",
       "      <td>Monitor</td>\n",
       "      <td>2</td>\n",
       "      <td>750.0</td>\n",
       "      <td>2024-02-02</td>\n",
       "      <td>West</td>\n",
       "      <td>2</td>\n",
       "      <td>1500.0</td>\n",
       "      <td>Very High</td>\n",
       "    </tr>\n",
       "  </tbody>\n",
       "</table>\n",
       "</div>"
      ],
      "text/plain": [
       "   order_id customer_name  product  quantity  unit_price  order_date  \\\n",
       "0         1         Diana   Tablet         2       500.0  2024-01-20   \n",
       "1         3       Charlie   Laptop         2       250.0  2024-01-08   \n",
       "2         4           Eve   Laptop         2       750.0  2024-01-07   \n",
       "3         5           Eve   Tablet         3       625.0  2024-03-07   \n",
       "4         7       Charlie  Monitor         2       750.0  2024-02-02   \n",
       "\n",
       "          region  month  total_price revenue_category  \n",
       "0          South      1       1000.0             High  \n",
       "1  Not Specified      1        500.0           Medium  \n",
       "2           West      1       1500.0        Very High  \n",
       "3          South      3       1875.0        Very High  \n",
       "4           West      2       1500.0        Very High  "
      ]
     },
     "execution_count": 9,
     "metadata": {},
     "output_type": "execute_result"
    }
   ],
   "source": [
    "# Load the full transformed dataset\n",
    "transformed_full = pd.read_csv('transformed/transformed_full.csv')\n",
    "# Verify successful loading\n",
    "transformed_full.head()\n"
   ]
  },
  {
   "cell_type": "markdown",
   "id": "a7e27105",
   "metadata": {},
   "source": [
    "\n",
    "\n",
    "*We begin the Load phase by reading the fully transformed CSV file into pandas using a clear and descriptive variable name (`transformed_full`).  \n",
    "The `.head()` preview confirms successful loading and verifies that the dataset is ready for the next step.*\n"
   ]
  },
  {
   "cell_type": "markdown",
   "id": "bd7906c0",
   "metadata": {},
   "source": [
    "## *Step 2: Load transformed_full as Parquet*"
   ]
  },
  {
   "cell_type": "code",
   "execution_count": 10,
   "id": "f0211f6a",
   "metadata": {},
   "outputs": [],
   "source": [
    "# Save the full dataset as a Parquet file\n",
    "transformed_full.to_parquet('loaded/full_data.parquet', index=False, compression='snappy')"
   ]
  },
  {
   "cell_type": "markdown",
   "id": "4a330604",
   "metadata": {},
   "source": [
    "## *step-3 Preview the full_data results*"
   ]
  },
  {
   "cell_type": "code",
   "execution_count": 11,
   "id": "98cc5e5a",
   "metadata": {},
   "outputs": [
    {
     "data": {
      "text/html": [
       "<div>\n",
       "<style scoped>\n",
       "    .dataframe tbody tr th:only-of-type {\n",
       "        vertical-align: middle;\n",
       "    }\n",
       "\n",
       "    .dataframe tbody tr th {\n",
       "        vertical-align: top;\n",
       "    }\n",
       "\n",
       "    .dataframe thead th {\n",
       "        text-align: right;\n",
       "    }\n",
       "</style>\n",
       "<table border=\"1\" class=\"dataframe\">\n",
       "  <thead>\n",
       "    <tr style=\"text-align: right;\">\n",
       "      <th></th>\n",
       "      <th>order_id</th>\n",
       "      <th>customer_name</th>\n",
       "      <th>product</th>\n",
       "      <th>quantity</th>\n",
       "      <th>unit_price</th>\n",
       "      <th>order_date</th>\n",
       "      <th>region</th>\n",
       "      <th>month</th>\n",
       "      <th>total_price</th>\n",
       "      <th>revenue_category</th>\n",
       "    </tr>\n",
       "  </thead>\n",
       "  <tbody>\n",
       "    <tr>\n",
       "      <th>0</th>\n",
       "      <td>1</td>\n",
       "      <td>Diana</td>\n",
       "      <td>Tablet</td>\n",
       "      <td>2</td>\n",
       "      <td>500.0</td>\n",
       "      <td>2024-01-20</td>\n",
       "      <td>South</td>\n",
       "      <td>1</td>\n",
       "      <td>1000.0</td>\n",
       "      <td>High</td>\n",
       "    </tr>\n",
       "    <tr>\n",
       "      <th>1</th>\n",
       "      <td>3</td>\n",
       "      <td>Charlie</td>\n",
       "      <td>Laptop</td>\n",
       "      <td>2</td>\n",
       "      <td>250.0</td>\n",
       "      <td>2024-01-08</td>\n",
       "      <td>Not Specified</td>\n",
       "      <td>1</td>\n",
       "      <td>500.0</td>\n",
       "      <td>Medium</td>\n",
       "    </tr>\n",
       "    <tr>\n",
       "      <th>2</th>\n",
       "      <td>4</td>\n",
       "      <td>Eve</td>\n",
       "      <td>Laptop</td>\n",
       "      <td>2</td>\n",
       "      <td>750.0</td>\n",
       "      <td>2024-01-07</td>\n",
       "      <td>West</td>\n",
       "      <td>1</td>\n",
       "      <td>1500.0</td>\n",
       "      <td>Very High</td>\n",
       "    </tr>\n",
       "    <tr>\n",
       "      <th>3</th>\n",
       "      <td>5</td>\n",
       "      <td>Eve</td>\n",
       "      <td>Tablet</td>\n",
       "      <td>3</td>\n",
       "      <td>625.0</td>\n",
       "      <td>2024-03-07</td>\n",
       "      <td>South</td>\n",
       "      <td>3</td>\n",
       "      <td>1875.0</td>\n",
       "      <td>Very High</td>\n",
       "    </tr>\n",
       "    <tr>\n",
       "      <th>4</th>\n",
       "      <td>7</td>\n",
       "      <td>Charlie</td>\n",
       "      <td>Monitor</td>\n",
       "      <td>2</td>\n",
       "      <td>750.0</td>\n",
       "      <td>2024-02-02</td>\n",
       "      <td>West</td>\n",
       "      <td>2</td>\n",
       "      <td>1500.0</td>\n",
       "      <td>Very High</td>\n",
       "    </tr>\n",
       "  </tbody>\n",
       "</table>\n",
       "</div>"
      ],
      "text/plain": [
       "   order_id customer_name  product  quantity  unit_price  order_date  \\\n",
       "0         1         Diana   Tablet         2       500.0  2024-01-20   \n",
       "1         3       Charlie   Laptop         2       250.0  2024-01-08   \n",
       "2         4           Eve   Laptop         2       750.0  2024-01-07   \n",
       "3         5           Eve   Tablet         3       625.0  2024-03-07   \n",
       "4         7       Charlie  Monitor         2       750.0  2024-02-02   \n",
       "\n",
       "          region  month  total_price revenue_category  \n",
       "0          South      1       1000.0             High  \n",
       "1  Not Specified      1        500.0           Medium  \n",
       "2           West      1       1500.0        Very High  \n",
       "3          South      3       1875.0        Very High  \n",
       "4           West      2       1500.0        Very High  "
      ]
     },
     "execution_count": 11,
     "metadata": {},
     "output_type": "execute_result"
    }
   ],
   "source": [
    "# Verify the saved file by reading it back\n",
    "pd.read_parquet('loaded/full_data.parquet').head()"
   ]
  },
  {
   "cell_type": "markdown",
   "id": "14efc9a7",
   "metadata": {},
   "source": [
    "### *Save Full Dataset to Parquet*\n",
    "\n",
    "*The `transformed_full` DataFrame is written to `loaded/full_data.parquet` using Snappy compression.  \n",
    "We immediately read it back with `pd.read_parquet().head()` to confirm that the write operation was successful and the file is usable for downstream processes.*\n"
   ]
  },
  {
   "cell_type": "markdown",
   "id": "b3daca16",
   "metadata": {},
   "source": [
    "# 2.*transformed_Incremental files*"
   ]
  },
  {
   "cell_type": "markdown",
   "id": "21b9d4cb",
   "metadata": {},
   "source": [
    "### *Step 1: Read the incremental Transformed Dataset*"
   ]
  },
  {
   "cell_type": "code",
   "execution_count": 12,
   "id": "bdefa162",
   "metadata": {},
   "outputs": [],
   "source": [
    "# Save incremental DataFrame to Parquet\n",
    "transformed_incremental = pd.read_csv('transformed/transformed_incremental.csv')"
   ]
  },
  {
   "cell_type": "markdown",
   "id": "b580a30b",
   "metadata": {},
   "source": [
    "## *Step 2: Load transformed_incremetal as Parquet*"
   ]
  },
  {
   "cell_type": "code",
   "execution_count": 14,
   "id": "37effafd",
   "metadata": {},
   "outputs": [],
   "source": [
    "# Save the full dataset as a Parquet file\n",
    "transformed_incremental.to_parquet('loaded/incremental_data.parquet',index=False,compression='snappy')"
   ]
  },
  {
   "cell_type": "markdown",
   "id": "67e2fca9",
   "metadata": {},
   "source": [
    "## *step-3 Preview the incremental_data results*"
   ]
  },
  {
   "cell_type": "code",
   "execution_count": 15,
   "id": "0b8ab996",
   "metadata": {},
   "outputs": [
    {
     "data": {
      "text/html": [
       "<div>\n",
       "<style scoped>\n",
       "    .dataframe tbody tr th:only-of-type {\n",
       "        vertical-align: middle;\n",
       "    }\n",
       "\n",
       "    .dataframe tbody tr th {\n",
       "        vertical-align: top;\n",
       "    }\n",
       "\n",
       "    .dataframe thead th {\n",
       "        text-align: right;\n",
       "    }\n",
       "</style>\n",
       "<table border=\"1\" class=\"dataframe\">\n",
       "  <thead>\n",
       "    <tr style=\"text-align: right;\">\n",
       "      <th></th>\n",
       "      <th>order_id</th>\n",
       "      <th>customer_name</th>\n",
       "      <th>product</th>\n",
       "      <th>quantity</th>\n",
       "      <th>unit_price</th>\n",
       "      <th>order_date</th>\n",
       "      <th>region</th>\n",
       "      <th>month</th>\n",
       "      <th>total_price</th>\n",
       "      <th>revenue_category</th>\n",
       "    </tr>\n",
       "  </thead>\n",
       "  <tbody>\n",
       "    <tr>\n",
       "      <th>0</th>\n",
       "      <td>101</td>\n",
       "      <td>Alice</td>\n",
       "      <td>Laptop</td>\n",
       "      <td>1</td>\n",
       "      <td>900.0</td>\n",
       "      <td>2024-05-09</td>\n",
       "      <td>Central</td>\n",
       "      <td>5</td>\n",
       "      <td>900.0</td>\n",
       "      <td>High</td>\n",
       "    </tr>\n",
       "    <tr>\n",
       "      <th>1</th>\n",
       "      <td>102</td>\n",
       "      <td>Unknown</td>\n",
       "      <td>Laptop</td>\n",
       "      <td>1</td>\n",
       "      <td>300.0</td>\n",
       "      <td>2024-05-07</td>\n",
       "      <td>Central</td>\n",
       "      <td>5</td>\n",
       "      <td>300.0</td>\n",
       "      <td>Medium</td>\n",
       "    </tr>\n",
       "    <tr>\n",
       "      <th>2</th>\n",
       "      <td>103</td>\n",
       "      <td>Unknown</td>\n",
       "      <td>Laptop</td>\n",
       "      <td>1</td>\n",
       "      <td>600.0</td>\n",
       "      <td>2024-05-04</td>\n",
       "      <td>Central</td>\n",
       "      <td>5</td>\n",
       "      <td>600.0</td>\n",
       "      <td>High</td>\n",
       "    </tr>\n",
       "    <tr>\n",
       "      <th>3</th>\n",
       "      <td>104</td>\n",
       "      <td>Unknown</td>\n",
       "      <td>Tablet</td>\n",
       "      <td>1</td>\n",
       "      <td>300.0</td>\n",
       "      <td>2024-05-26</td>\n",
       "      <td>Central</td>\n",
       "      <td>5</td>\n",
       "      <td>300.0</td>\n",
       "      <td>Medium</td>\n",
       "    </tr>\n",
       "    <tr>\n",
       "      <th>4</th>\n",
       "      <td>105</td>\n",
       "      <td>Heidi</td>\n",
       "      <td>Tablet</td>\n",
       "      <td>2</td>\n",
       "      <td>600.0</td>\n",
       "      <td>2024-05-21</td>\n",
       "      <td>North</td>\n",
       "      <td>5</td>\n",
       "      <td>1200.0</td>\n",
       "      <td>Very High</td>\n",
       "    </tr>\n",
       "  </tbody>\n",
       "</table>\n",
       "</div>"
      ],
      "text/plain": [
       "   order_id customer_name product  quantity  unit_price  order_date   region  \\\n",
       "0       101         Alice  Laptop         1       900.0  2024-05-09  Central   \n",
       "1       102       Unknown  Laptop         1       300.0  2024-05-07  Central   \n",
       "2       103       Unknown  Laptop         1       600.0  2024-05-04  Central   \n",
       "3       104       Unknown  Tablet         1       300.0  2024-05-26  Central   \n",
       "4       105         Heidi  Tablet         2       600.0  2024-05-21    North   \n",
       "\n",
       "   month  total_price revenue_category  \n",
       "0      5        900.0             High  \n",
       "1      5        300.0           Medium  \n",
       "2      5        600.0             High  \n",
       "3      5        300.0           Medium  \n",
       "4      5       1200.0        Very High  "
      ]
     },
     "execution_count": 15,
     "metadata": {},
     "output_type": "execute_result"
    }
   ],
   "source": [
    "# Verify successful save\n",
    "pd.read_parquet('loaded/incremental_data.parquet').head()"
   ]
  },
  {
   "cell_type": "markdown",
   "id": "1179f2dc",
   "metadata": {},
   "source": [
    "### *Step 3: Save Incremental Dataset to Parquet*\n",
    "\n",
    "*The `transformed_incremental.csv` file is read into pandas and saved as a Snappy-compressed Parquet file (`incremental_data.parquet`) in the `loaded/` folder.*  \n",
    "*Using `pd.read_parquet().head()` confirms that the file was written successfully and accurately.*\n"
   ]
  }
 ],
 "metadata": {
  "kernelspec": {
   "display_name": "base",
   "language": "python",
   "name": "python3"
  },
  "language_info": {
   "codemirror_mode": {
    "name": "ipython",
    "version": 3
   },
   "file_extension": ".py",
   "mimetype": "text/x-python",
   "name": "python",
   "nbconvert_exporter": "python",
   "pygments_lexer": "ipython3",
   "version": "3.12.7"
  }
 },
 "nbformat": 4,
 "nbformat_minor": 5
}
