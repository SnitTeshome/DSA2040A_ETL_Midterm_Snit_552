{
 "cells": [
  {
   "cell_type": "markdown",
   "id": "1b751621",
   "metadata": {},
   "source": [
    "## *EXTRACT*"
   ]
  },
  {
   "cell_type": "markdown",
   "id": "d8a090e3",
   "metadata": {},
   "source": [
    "### *Import Libraries*"
   ]
  },
  {
   "cell_type": "code",
   "execution_count": 10,
   "id": "893d08a8",
   "metadata": {},
   "outputs": [],
   "source": [
    "import pandas as pd"
   ]
  },
  {
   "cell_type": "markdown",
   "id": "84c72ab8",
   "metadata": {},
   "source": [
    "### *Step 1: Load and Preview `raw_data.csv` and `incremental_data.csv`*"
   ]
  },
  {
   "cell_type": "markdown",
   "id": "54b8b98e",
   "metadata": {},
   "source": [
    "### *Load the Datasets*"
   ]
  },
  {
   "cell_type": "code",
   "execution_count": 11,
   "id": "46f11717",
   "metadata": {},
   "outputs": [],
   "source": [
    "# Load raw data\n",
    "orders_full = pd.read_csv('data/raw_data.csv')\n",
    "\n",
    "# Load incremental data\n",
    "orders_incremental = pd.read_csv('data/incremental_data.csv')"
   ]
  },
  {
   "cell_type": "markdown",
   "id": "e221d14b",
   "metadata": {},
   "source": [
    "### *Preview the Data Using*"
   ]
  },
  {
   "cell_type": "code",
   "execution_count": 12,
   "id": "327caa26",
   "metadata": {},
   "outputs": [
    {
     "name": "stdout",
     "output_type": "stream",
     "text": [
      "Preview of orders_full:\n"
     ]
    },
    {
     "data": {
      "text/html": [
       "<div>\n",
       "<style scoped>\n",
       "    .dataframe tbody tr th:only-of-type {\n",
       "        vertical-align: middle;\n",
       "    }\n",
       "\n",
       "    .dataframe tbody tr th {\n",
       "        vertical-align: top;\n",
       "    }\n",
       "\n",
       "    .dataframe thead th {\n",
       "        text-align: right;\n",
       "    }\n",
       "</style>\n",
       "<table border=\"1\" class=\"dataframe\">\n",
       "  <thead>\n",
       "    <tr style=\"text-align: right;\">\n",
       "      <th></th>\n",
       "      <th>order_id</th>\n",
       "      <th>customer_name</th>\n",
       "      <th>product</th>\n",
       "      <th>quantity</th>\n",
       "      <th>unit_price</th>\n",
       "      <th>order_date</th>\n",
       "      <th>region</th>\n",
       "    </tr>\n",
       "  </thead>\n",
       "  <tbody>\n",
       "    <tr>\n",
       "      <th>0</th>\n",
       "      <td>1</td>\n",
       "      <td>Diana</td>\n",
       "      <td>Tablet</td>\n",
       "      <td>NaN</td>\n",
       "      <td>500.0</td>\n",
       "      <td>2024-01-20</td>\n",
       "      <td>South</td>\n",
       "    </tr>\n",
       "    <tr>\n",
       "      <th>1</th>\n",
       "      <td>2</td>\n",
       "      <td>Eve</td>\n",
       "      <td>Laptop</td>\n",
       "      <td>NaN</td>\n",
       "      <td>NaN</td>\n",
       "      <td>2024-04-29</td>\n",
       "      <td>North</td>\n",
       "    </tr>\n",
       "    <tr>\n",
       "      <th>2</th>\n",
       "      <td>3</td>\n",
       "      <td>Charlie</td>\n",
       "      <td>Laptop</td>\n",
       "      <td>2.0</td>\n",
       "      <td>250.0</td>\n",
       "      <td>2024-01-08</td>\n",
       "      <td>NaN</td>\n",
       "    </tr>\n",
       "    <tr>\n",
       "      <th>3</th>\n",
       "      <td>4</td>\n",
       "      <td>Eve</td>\n",
       "      <td>Laptop</td>\n",
       "      <td>2.0</td>\n",
       "      <td>750.0</td>\n",
       "      <td>2024-01-07</td>\n",
       "      <td>West</td>\n",
       "    </tr>\n",
       "    <tr>\n",
       "      <th>4</th>\n",
       "      <td>5</td>\n",
       "      <td>Eve</td>\n",
       "      <td>Tablet</td>\n",
       "      <td>3.0</td>\n",
       "      <td>NaN</td>\n",
       "      <td>2024-03-07</td>\n",
       "      <td>South</td>\n",
       "    </tr>\n",
       "  </tbody>\n",
       "</table>\n",
       "</div>"
      ],
      "text/plain": [
       "   order_id customer_name product  quantity  unit_price  order_date region\n",
       "0         1         Diana  Tablet       NaN       500.0  2024-01-20  South\n",
       "1         2           Eve  Laptop       NaN         NaN  2024-04-29  North\n",
       "2         3       Charlie  Laptop       2.0       250.0  2024-01-08    NaN\n",
       "3         4           Eve  Laptop       2.0       750.0  2024-01-07   West\n",
       "4         5           Eve  Tablet       3.0         NaN  2024-03-07  South"
      ]
     },
     "execution_count": 12,
     "metadata": {},
     "output_type": "execute_result"
    }
   ],
   "source": [
    "# Preview first few rows of raw_data\n",
    "print(\"Preview of orders_full:\")\n",
    "orders_full.head()"
   ]
  },
  {
   "cell_type": "code",
   "execution_count": 13,
   "id": "218b5942",
   "metadata": {},
   "outputs": [
    {
     "name": "stdout",
     "output_type": "stream",
     "text": [
      "Preview of orders_incremental:\n"
     ]
    },
    {
     "data": {
      "text/html": [
       "<div>\n",
       "<style scoped>\n",
       "    .dataframe tbody tr th:only-of-type {\n",
       "        vertical-align: middle;\n",
       "    }\n",
       "\n",
       "    .dataframe tbody tr th {\n",
       "        vertical-align: top;\n",
       "    }\n",
       "\n",
       "    .dataframe thead th {\n",
       "        text-align: right;\n",
       "    }\n",
       "</style>\n",
       "<table border=\"1\" class=\"dataframe\">\n",
       "  <thead>\n",
       "    <tr style=\"text-align: right;\">\n",
       "      <th></th>\n",
       "      <th>order_id</th>\n",
       "      <th>customer_name</th>\n",
       "      <th>product</th>\n",
       "      <th>quantity</th>\n",
       "      <th>unit_price</th>\n",
       "      <th>order_date</th>\n",
       "      <th>region</th>\n",
       "    </tr>\n",
       "  </thead>\n",
       "  <tbody>\n",
       "    <tr>\n",
       "      <th>0</th>\n",
       "      <td>101</td>\n",
       "      <td>Alice</td>\n",
       "      <td>Laptop</td>\n",
       "      <td>NaN</td>\n",
       "      <td>900.0</td>\n",
       "      <td>2024-05-09</td>\n",
       "      <td>Central</td>\n",
       "    </tr>\n",
       "    <tr>\n",
       "      <th>1</th>\n",
       "      <td>102</td>\n",
       "      <td>NaN</td>\n",
       "      <td>Laptop</td>\n",
       "      <td>1.0</td>\n",
       "      <td>300.0</td>\n",
       "      <td>2024-05-07</td>\n",
       "      <td>Central</td>\n",
       "    </tr>\n",
       "    <tr>\n",
       "      <th>2</th>\n",
       "      <td>103</td>\n",
       "      <td>NaN</td>\n",
       "      <td>Laptop</td>\n",
       "      <td>1.0</td>\n",
       "      <td>600.0</td>\n",
       "      <td>2024-05-04</td>\n",
       "      <td>Central</td>\n",
       "    </tr>\n",
       "    <tr>\n",
       "      <th>3</th>\n",
       "      <td>104</td>\n",
       "      <td>NaN</td>\n",
       "      <td>Tablet</td>\n",
       "      <td>NaN</td>\n",
       "      <td>300.0</td>\n",
       "      <td>2024-05-26</td>\n",
       "      <td>Central</td>\n",
       "    </tr>\n",
       "    <tr>\n",
       "      <th>4</th>\n",
       "      <td>105</td>\n",
       "      <td>Heidi</td>\n",
       "      <td>Tablet</td>\n",
       "      <td>2.0</td>\n",
       "      <td>600.0</td>\n",
       "      <td>2024-05-21</td>\n",
       "      <td>North</td>\n",
       "    </tr>\n",
       "  </tbody>\n",
       "</table>\n",
       "</div>"
      ],
      "text/plain": [
       "   order_id customer_name product  quantity  unit_price  order_date   region\n",
       "0       101         Alice  Laptop       NaN       900.0  2024-05-09  Central\n",
       "1       102           NaN  Laptop       1.0       300.0  2024-05-07  Central\n",
       "2       103           NaN  Laptop       1.0       600.0  2024-05-04  Central\n",
       "3       104           NaN  Tablet       NaN       300.0  2024-05-26  Central\n",
       "4       105         Heidi  Tablet       2.0       600.0  2024-05-21    North"
      ]
     },
     "execution_count": 13,
     "metadata": {},
     "output_type": "execute_result"
    }
   ],
   "source": [
    "# Preview first few rows of incremental_data\n",
    "print(\"Preview of orders_incremental:\")\n",
    "orders_incremental.head()"
   ]
  },
  {
   "cell_type": "markdown",
   "id": "659018e7",
   "metadata": {},
   "source": [
    "### *Inspect Data Types and Nulls*"
   ]
  },
  {
   "cell_type": "code",
   "execution_count": 14,
   "id": "d5b76373",
   "metadata": {},
   "outputs": [
    {
     "name": "stdout",
     "output_type": "stream",
     "text": [
      "Info for orders_full:\n",
      "<class 'pandas.core.frame.DataFrame'>\n",
      "RangeIndex: 100 entries, 0 to 99\n",
      "Data columns (total 7 columns):\n",
      " #   Column         Non-Null Count  Dtype  \n",
      "---  ------         --------------  -----  \n",
      " 0   order_id       100 non-null    int64  \n",
      " 1   customer_name  99 non-null     object \n",
      " 2   product        100 non-null    object \n",
      " 3   quantity       74 non-null     float64\n",
      " 4   unit_price     65 non-null     float64\n",
      " 5   order_date     99 non-null     object \n",
      " 6   region         75 non-null     object \n",
      "dtypes: float64(2), int64(1), object(4)\n",
      "memory usage: 5.6+ KB\n"
     ]
    }
   ],
   "source": [
    "# Check structure of raw data\n",
    "print(\"Info for orders_full:\")\n",
    "orders_full.info()"
   ]
  },
  {
   "cell_type": "markdown",
   "id": "26c38424",
   "metadata": {},
   "source": [
    "\n",
    "#### *Observations from orders_full (raw_data.csv)*\n",
    "\n",
    "*Number of Records:*  \n",
    "*- The dataset contains a total of **100 entries** and **7 columns**.*\n",
    "\n",
    "*The following columns in the `orders_full` dataset have either missing values or data types that require attention:*\n",
    "\n",
    "1. *Data Types:*  \n",
    "   *- `product`: object — categorical/text data; appropriate.*  \n",
    "   *- `quantity`: float64 — numeric; may need conversion to integer if all values are whole numbers.*  \n",
    "   *- `order_date`: object — should be converted to datetime format for proper time-based analysis.*  \n",
    "   *- `region`: object — categorical; suitable as-is.*\n",
    "\n",
    "2. *Missing Values:*  \n",
    "   *The dataset contains missing values in the following columns: `customer_name (1 missing)`, `quantity (26 missing)`, `unit_price (35 missing)`, `order_date (1 missing)`, and `region (25 missing)`.*\n",
    "\n",
    "3. *Initial Observations:*  \n",
    "   *- The dataset has several missing values, especially in the `quantity`, `unit_price`, and `region` columns, which will need to be handled during the transformation phase.*  \n",
    "   *- The `order_date` column is of type object and should be converted to `datetime64` for time-based analysis.*\n",
    "\n"
   ]
  },
  {
   "cell_type": "code",
   "execution_count": 16,
   "id": "e0df82ea",
   "metadata": {},
   "outputs": [
    {
     "name": "stdout",
     "output_type": "stream",
     "text": [
      "Info for orders_incremental:\n",
      "<class 'pandas.core.frame.DataFrame'>\n",
      "RangeIndex: 10 entries, 0 to 9\n",
      "Data columns (total 7 columns):\n",
      " #   Column         Non-Null Count  Dtype  \n",
      "---  ------         --------------  -----  \n",
      " 0   order_id       10 non-null     int64  \n",
      " 1   customer_name  4 non-null      object \n",
      " 2   product        10 non-null     object \n",
      " 3   quantity       6 non-null      float64\n",
      " 4   unit_price     10 non-null     float64\n",
      " 5   order_date     10 non-null     object \n",
      " 6   region         8 non-null      object \n",
      "dtypes: float64(2), int64(1), object(4)\n",
      "memory usage: 692.0+ bytes\n"
     ]
    }
   ],
   "source": [
    "# Check structure of raw data\n",
    "print(\"Info for orders_incremental:\")\n",
    "orders_incremental.info()"
   ]
  },
  {
   "cell_type": "markdown",
   "id": "66e30284",
   "metadata": {},
   "source": [
    "#### *Observations from orders_incremental (incremental_data.csv)*\n",
    "\n",
    "*Number of Records:*  \n",
    "*- The dataset contains a total of **10 entries** and **7 columns**.*\n",
    "\n",
    "*The following columns in the `orders_incremental` dataset have either missing values or data types that require attention:*\n",
    "\n",
    "1. *Data Types:*  \n",
    "   *- `product`: object — categorical/text data; appropriate.*  \n",
    "   *- `quantity`: float64 — numeric; may need conversion to integer if all values are whole numbers.*  \n",
    "   *- `order_date`: object — should be converted to datetime format for proper time-based analysis.*  \n",
    "   *- `region`: object — categorical; suitable as-is.*\n",
    "\n",
    "2. *Missing Values:*  \n",
    "   *The dataset contains missing values in the following columns: **`customer_name`** (6 missing), **`quantity`** (4 missing), and **`region`** (2 missing).*\n",
    "\n",
    "3. *Initial Observations:*  \n",
    "   *- The `orders_incremental` dataset has fewer records but still includes several missing values that will require attention during transformation.*  \n",
    "   *- The `order_date` column is stored as an object and should be converted to `datetime64` format.*"
   ]
  },
  {
   "cell_type": "markdown",
   "id": "c94bd164",
   "metadata": {},
   "source": [
    "### *Save Raw Copies*"
   ]
  },
  {
   "cell_type": "code",
   "execution_count": 18,
   "id": "7ab0aeeb",
   "metadata": {},
   "outputs": [],
   "source": [
    "# Save raw copies (even if already present, this ensures version consistency)\n",
    "orders_full.to_csv('data/raw_data.csv', index=False)\n",
    "orders_incremental.to_csv('data/incremental_data.csv', index=False)"
   ]
  },
  {
   "cell_type": "code",
   "execution_count": 19,
   "id": "e066d9c0",
   "metadata": {},
   "outputs": [
    {
     "name": "stdout",
     "output_type": "stream",
     "text": [
      "Raw datasets saved to the data/ directory.\n"
     ]
    }
   ],
   "source": [
    "print(\"Raw datasets saved to the data/ directory.\")"
   ]
  }
 ],
 "metadata": {
  "kernelspec": {
   "display_name": "Python 3",
   "language": "python",
   "name": "python3"
  },
  "language_info": {
   "codemirror_mode": {
    "name": "ipython",
    "version": 3
   },
   "file_extension": ".py",
   "mimetype": "text/x-python",
   "name": "python",
   "nbconvert_exporter": "python",
   "pygments_lexer": "ipython3",
   "version": "3.13.4"
  }
 },
 "nbformat": 4,
 "nbformat_minor": 5
}
